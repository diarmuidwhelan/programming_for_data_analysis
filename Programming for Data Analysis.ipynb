{
 "cells": [
  {
   "cell_type": "markdown",
   "metadata": {},
   "source": [
    "#  Programming for Data Analysis \n",
    "## Diarmuid Whelan Assignment 24-10-2018\n",
    "This Jupyter notebook  will analyse the python numpy.random package across 4 areas, as follows:\n",
    " -  Explain the overall purpose of the package.\n",
    " -  Explain the use of the “Simple random data” and “Permutations” functions. \n",
    " -  Explain the use and purpose of at least five “Distributions” functions.\n",
    " -  Explain the use of seeds in generating pseudorandom numbers.\n",
    " \n",
    "## Purpose of Numpy Random Package\n",
    "\n",
    "\n"
   ]
  },
  {
   "cell_type": "code",
   "execution_count": null,
   "metadata": {},
   "outputs": [],
   "source": []
  }
 ],
 "metadata": {
  "kernelspec": {
   "display_name": "Python 3",
   "language": "python",
   "name": "python3"
  },
  "language_info": {
   "codemirror_mode": {
    "name": "ipython",
    "version": 3
   },
   "file_extension": ".py",
   "mimetype": "text/x-python",
   "name": "python",
   "nbconvert_exporter": "python",
   "pygments_lexer": "ipython3",
   "version": "3.6.5"
  }
 },
 "nbformat": 4,
 "nbformat_minor": 2
}
