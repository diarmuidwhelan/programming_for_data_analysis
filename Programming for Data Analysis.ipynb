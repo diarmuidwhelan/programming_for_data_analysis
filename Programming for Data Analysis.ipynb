{
 "cells": [
  {
   "cell_type": "markdown",
   "metadata": {},
   "source": [
    "#  Programming for Data Analysis \n",
    "## Diarmuid Whelan Assignment 24-10-2018\n",
    "This Jupyter notebook  will analyse the python numpy.random package across 4 areas, as follows:\n",
    " -  Explain the overall purpose of the package.\n",
    " -  Explain the use of the “Simple random data” and “Permutations” functions. \n",
    " -  Explain the use and purpose of at least five “Distributions” functions.\n",
    " -  Explain the use of seeds in generating pseudorandom numbers.\n",
    " \n",
    "## Purpose of Numpy Random Package\n",
    "Is a package used to generate random numbers. An important part of any simulation is the ability to generate random numbers. For this purpose, NumPy provides various routines through the random package. Random enables users to genersate random numbers based on different distributions.\n",
    "\n",
    "rand - generates random numbers between 0 and 1\n",
    "\n",
    "\n",
    "\n",
    "## Simple Random Data and Permutations Packages\n"
   ]
  },
  {
   "cell_type": "code",
   "execution_count": null,
   "metadata": {},
   "outputs": [],
   "source": [
    "import numpy as np\n",
    "x=np.random.rand(10000)\n",
    "import matplotlib.pyplot as plt\n",
    "plt.hist(x)\n",
    "np.random.randint(0,10)     # Get a random integer in the range between 0 and 10\n",
    "y=np.random.choice([1,3,5,11,13,17,19,23,29]) # Get a random element from a sequence\n",
    "print(y)\n",
    "\n",
    "np.random.seed(y)  # Set the seed to an arbitrary value\n",
    "\n",
    "print([np.random.uniform(0,10) for a in range(4)])\n",
    "\n",
    "np.random.seed(y)  # Set the seed to the same value\n",
    "\n",
    "print([np.random.uniform(0,10) for a in range(4)])"
   ]
  },
  {
   "cell_type": "markdown",
   "metadata": {},
   "source": [
    "## Examining Distribution Functions\n",
    "\n",
    "### Normal (Gaussian) Distribution\n",
    "\n",
    "### Binomial Distribution\n"
   ]
  },
  {
   "cell_type": "markdown",
   "metadata": {},
   "source": [
    "### Poisson Distribution\n",
    "The Poisson distribution is named after a French mathematician Siméon Denis Poisson. The Poisson distribution is a discrete probability distribution that generates the probability of a given number of events occurring in a fixed interval of time or space, if the events happen at a known constant rate and are independent of the time since the last event. In my industry, sports betting, the poisson distribution is often used to simulate the over/under lines for total goals/tries being scored. For instance when generating an estimation for total tries in rugby, each team will have an expected no. tries to score in the game (usually a long run average adjusted for opposition, conditions, venue etc.). From this we can use the Poisson distribution to calculate the probability of the teams scoring over/under 1.5/2.5/3.5/4.5 tries and so on. For example, if we take the Ireland  vs Italy rugby game in Soldier Field on Nov 3rd. Say Irelands expected number of tries for the game was 6.9 and Italy's was 2.8. This gives us a total expected tries of 9.7. We would asssume that the probability of over 9.7 tries being scored is the same as the probability of under 9.7 tries i.e. 50%. However, bookmakers want to generate a number of alternative lines for customers. In the below graph we simulate a match with expected tries of 9.7 and see the spread of the simulations under a poisson distribution. We can see the majority of results are clustered around 9.7 and between 5 and 15.  Using cumulative distribution function in the scipy stats package we can generate probabilities for different total tries lines.\n"
   ]
  },
  {
   "cell_type": "code",
   "execution_count": null,
   "metadata": {},
   "outputs": [],
   "source": [
    "tries = np.random.poisson(9.7,10000)\n",
    "print(np.mean(tries))\n",
    "print(np.std(tries))\n",
    "plt.hist(tries)\n",
    "from scipy import stats\n",
    "poisson = stats.distributions.poisson\n",
    "print('Probability of under 10.5 tries is:',poisson.cdf(10.5, np.mean(tries)))\n",
    "print('Probability of under 11.5 tries is:',poisson.cdf(11.5, np.mean(tries)))\n",
    "print('Probability of under 12.5 tries is:',poisson.cdf(12.5, np.mean(tries)))"
   ]
  },
  {
   "cell_type": "markdown",
   "metadata": {},
   "source": [
    "### Uniform Distribution"
   ]
  },
  {
   "cell_type": "code",
   "execution_count": null,
   "metadata": {},
   "outputs": [],
   "source": [
    "np.random.uniform(-1,0,10)"
   ]
  },
  {
   "cell_type": "markdown",
   "metadata": {},
   "source": [
    "### Exponential Distribution\n",
    "The exponential distribution is the probability distribution that describes the time between events in a Poisson point process.It is often referred to as memoryless.Continuing with the sport theme, The time intervals between successive scoring events are believed to follow an exponential distribution, with essentially no memory between different scoring intervals. Taking the try expectation from the above poisson example of total tries in the Ireland vs Italy rugby game we can simulate the expected time between tries."
   ]
  },
  {
   "cell_type": "code",
   "execution_count": null,
   "metadata": {},
   "outputs": [],
   "source": [
    "time = np.random.exponential(1/9.7,10000)\n",
    "print(np.mean(time))\n",
    "print(np.std(time))\n",
    "plt.hist(time)\n",
    "\n"
   ]
  },
  {
   "cell_type": "markdown",
   "metadata": {},
   "source": [
    "## References\n",
    "https://docs.scipy.org/doc/numpy-1.15.1/reference/routines.random.html\n",
    "\n",
    "https://en.wikipedia.org/wiki/Poisson_distribution\n",
    "\n",
    "https://en.wikipedia.org/wiki/Exponential_distribution\n",
    "\n",
    "http://hamelg.blogspot.com/2015/11/python-for-data-analysis-part-22.html\n",
    "\n",
    "http://physics.bu.edu/~redner/pubs/pdf/bball-scoring.pdf\n",
    "\n",
    "\n"
   ]
  },
  {
   "cell_type": "code",
   "execution_count": null,
   "metadata": {},
   "outputs": [],
   "source": []
  }
 ],
 "metadata": {
  "kernelspec": {
   "display_name": "Python 3",
   "language": "python",
   "name": "python3"
  },
  "language_info": {
   "codemirror_mode": {
    "name": "ipython",
    "version": 3
   },
   "file_extension": ".py",
   "mimetype": "text/x-python",
   "name": "python",
   "nbconvert_exporter": "python",
   "pygments_lexer": "ipython3",
   "version": "3.6.5"
  }
 },
 "nbformat": 4,
 "nbformat_minor": 2
}
